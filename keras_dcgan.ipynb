{
  "nbformat": 4,
  "nbformat_minor": 0,
  "metadata": {
    "colab": {
      "name": "keras_dcgan.ipynb",
      "version": "0.3.2",
      "provenance": [],
      "private_outputs": true,
      "include_colab_link": true
    },
    "kernelspec": {
      "name": "python3",
      "display_name": "Python 3"
    },
    "accelerator": "GPU"
  },
  "cells": [
    {
      "cell_type": "markdown",
      "metadata": {
        "id": "view-in-github",
        "colab_type": "text"
      },
      "source": [
        "<a href=\"https://colab.research.google.com/github/wangyao049/Keras-Tutorial/blob/master/keras_dcgan.ipynb\" target=\"_parent\"><img src=\"https://colab.research.google.com/assets/colab-badge.svg\" alt=\"Open In Colab\"/></a>"
      ]
    },
    {
      "cell_type": "markdown",
      "metadata": {
        "id": "gZ10utAv4vhY",
        "colab_type": "text"
      },
      "source": [
        "# Training DCGANs with MNIST dataset, Keras and TensorFlow\n",
        "\n",
        "A DCGANs implementation using the transposed convolution technique and the Keras library.\n",
        "\n",
        "* Data\n",
        "\n",
        "  * Rescale the MNIST images to be between -1 and 1.\n",
        "  \n",
        "* Generator\n",
        "\n",
        "  * Use the inverse of convolution, called transposed convolution.\n",
        "  * ReLU activation and BatchNormalization.\n",
        "  * The input to the generator is the normal distribution $z$ or latent sample (100 values).\n",
        "  * The last activation is tanh.\n",
        "  \n",
        "* Discriminator\n",
        "\n",
        "  * Convolutional neural network and LeakyReLU activation.\n",
        "  * The last activation is sigmoid.\n",
        "  \n",
        "* Loss\n",
        "\n",
        "  * binary_crossentropy\n",
        "  \n",
        "* Optimizer\n",
        "\n",
        "  * Adam(lr=0.0002, beta_1=0.5)\n",
        "  * batch_size = 64\n",
        "\n",
        "  * epochs = 100"
      ]
    },
    {
      "cell_type": "code",
      "metadata": {
        "id": "tdTgJ4YL5Rrh",
        "colab_type": "code",
        "colab": {}
      },
      "source": [
        "import numpy as np\n",
        "\n",
        "%matplotlib inline\n",
        "import matplotlib.pyplot as plt"
      ],
      "execution_count": 0,
      "outputs": []
    },
    {
      "cell_type": "markdown",
      "metadata": {
        "id": "saJ0mLRC4vDU",
        "colab_type": "text"
      },
      "source": [
        ""
      ]
    },
    {
      "cell_type": "code",
      "metadata": {
        "id": "K1Em8WXZ8x1D",
        "colab_type": "code",
        "colab": {}
      },
      "source": [
        "from keras.datasets import mnist\n",
        "from keras.models import Sequential, Model\n",
        "from keras.layers import Input, Dense, LeakyReLU, BatchNormalization, ReLU\n",
        "from keras.layers import Conv2D, Conv2DTranspose, Reshape, Flatten\n",
        "from keras.optimizers import Adam\n",
        "from keras import initializers\n",
        "from keras.utils import plot_model\n",
        "from keras import backend as K"
      ],
      "execution_count": 0,
      "outputs": []
    },
    {
      "cell_type": "code",
      "metadata": {
        "id": "cAYUwt_69Ruz",
        "colab_type": "code",
        "colab": {}
      },
      "source": [
        "# load dataset\n",
        "(X_train, y_train), (X_test, y_test) = mnist.load_data()"
      ],
      "execution_count": 0,
      "outputs": []
    },
    {
      "cell_type": "code",
      "metadata": {
        "id": "YeJH1kpJ9ays",
        "colab_type": "code",
        "colab": {}
      },
      "source": [
        "fig = plt.figure()\n",
        "for i in range(10):\n",
        "    plt.subplot(2, 5, i+1)\n",
        "    x_y = X_train[y_train == i]\n",
        "    plt.imshow(x_y[0], cmap='gray', interpolation='none')\n",
        "    plt.title(\"Class %d\" % (i))\n",
        "    plt.xticks([])\n",
        "    plt.yticks([])\n",
        "    \n",
        "plt.tight_layout()"
      ],
      "execution_count": 0,
      "outputs": []
    },
    {
      "cell_type": "code",
      "metadata": {
        "id": "eK0WtYL_9c9u",
        "colab_type": "code",
        "colab": {}
      },
      "source": [
        "print(X_train.shape)\n",
        "\n",
        "if K.image_data_format() == 'channels_first':\n",
        "  X_train = X_train.reshape(X_train.shape[0], 1, 28, 28)\n",
        "  X_test = X_test.reshape(X_test.shape[0], 1, 28, 28)\n",
        "  input_shape = (1, 28, 28)\n",
        "  \n",
        "else:\n",
        "  X_train = X_train.reshape(X_train.shape[0], 28, 28, 1)\n",
        "  X_test = X_test.reshape(X_test.shape[0], 28, 28, 1)\n",
        "  input_shape = (28, 28, 1)\n",
        "  \n",
        "X_train = np.float32(X_train)\n",
        "X_train = (X_train / 255 - 0.5) * 2\n",
        "X_train = np.clip(X_train, -1, 1)\n",
        "\n",
        "print(X_train.shape)"
      ],
      "execution_count": 0,
      "outputs": []
    },
    {
      "cell_type": "code",
      "metadata": {
        "id": "gNv5QPQ-MSHp",
        "colab_type": "code",
        "colab": {}
      },
      "source": [
        "# latent space dimension\n",
        "latent_dim = 100\n",
        "\n",
        "# imagem dimension 28x28\n",
        "img_dim = 784\n",
        "\n",
        "init = initializers.RandomNormal(stddev=0.02)\n",
        "\n",
        "# Generator network\n",
        "generator = Sequential()\n",
        "\n",
        "# FC: 7x7x256\n",
        "generator.add(Dense(7*7*128, input_shape=(latent_dim,), kernel_initializer=init))\n",
        "generator.add(Reshape((7, 7, 128)))\n",
        "\n",
        "# Conv 1: 14x14x128\n",
        "generator.add(Conv2DTranspose(64, kernel_size=3, strides=2, padding='same'))\n",
        "generator.add(BatchNormalization(momentum=0.8))\n",
        "generator.add(ReLU(0.2))\n",
        "\n",
        "# Conv 2: 28x28x64\n",
        "generator.add(Conv2DTranspose(32, kernel_size=3, strides=1, padding='same'))\n",
        "generator.add(BatchNormalization(momentum=0.8))\n",
        "generator.add(ReLU(0.2))\n",
        "\n",
        "# # Conv 3: 28x28x32\n",
        "# generator.add(Conv2DTranspose(32, kernel_size=3, strides=1, padding='same'))\n",
        "# generator.add(BatchNormalization(momentum=0.8))\n",
        "# generator.add(ReLU(0.2))\n",
        "\n",
        "# Conv 4: 28x28x1\n",
        "generator.add(Conv2DTranspose(1, kernel_size=3, strides=2, padding='same', activation='tanh'))"
      ],
      "execution_count": 0,
      "outputs": []
    },
    {
      "cell_type": "code",
      "metadata": {
        "id": "sE2QzktNbAvK",
        "colab_type": "code",
        "colab": {}
      },
      "source": [
        "generator.summary()"
      ],
      "execution_count": 0,
      "outputs": []
    },
    {
      "cell_type": "code",
      "metadata": {
        "id": "e7zDh3hPbHzw",
        "colab_type": "code",
        "colab": {}
      },
      "source": [
        "# Discriminator network\n",
        "discriminator = Sequential()\n",
        "\n",
        "# Conv 1: 14x14x64\n",
        "discriminator.add(Conv2D(32, kernel_size=3, strides=2, padding='same',\n",
        "                         input_shape=(28, 28, 1), kernel_initializer=init))\n",
        "discriminator.add(LeakyReLU(0.2))\n",
        "\n",
        "# Conv 2:\n",
        "discriminator.add(Conv2D(64, kernel_size=3, strides=2, padding='same'))\n",
        "discriminator.add(BatchNormalization(momentum=0.8))\n",
        "discriminator.add(LeakyReLU(0.2))\n",
        "\n",
        "# Conv 3: \n",
        "discriminator.add(Conv2D(128, kernel_size=3, strides=2, padding='same'))\n",
        "discriminator.add(BatchNormalization(momentum=0.8))\n",
        "discriminator.add(LeakyReLU(0.2))\n",
        "\n",
        "# FC\n",
        "discriminator.add(Flatten())\n",
        "\n",
        "# Output\n",
        "discriminator.add(Dense(1, activation='sigmoid'))"
      ],
      "execution_count": 0,
      "outputs": []
    },
    {
      "cell_type": "code",
      "metadata": {
        "id": "IeyTtnZ6bgLf",
        "colab_type": "code",
        "colab": {}
      },
      "source": [
        "\n",
        "# prints a summary representation of your model\n",
        "discriminator.summary()"
      ],
      "execution_count": 0,
      "outputs": []
    },
    {
      "cell_type": "code",
      "metadata": {
        "id": "kHp8PjNubioV",
        "colab_type": "code",
        "colab": {}
      },
      "source": [
        "# Optimizer\n",
        "optimizer = Adam(lr=0.0002, beta_1=0.5)\n",
        "\n",
        "discriminator.compile(optimizer=optimizer, loss='binary_crossentropy', metrics=['binary_accuracy'])"
      ],
      "execution_count": 0,
      "outputs": []
    },
    {
      "cell_type": "code",
      "metadata": {
        "id": "Wgo2nYIMbqWr",
        "colab_type": "code",
        "colab": {}
      },
      "source": [
        "discriminator.trainable = False\n",
        "\n",
        "z = Input(shape=(latent_dim,))\n",
        "img = generator(z)\n",
        "decision = discriminator(img)\n",
        "d_g = Model(inputs=z, outputs=decision)\n",
        "\n",
        "d_g.compile(optimizer=optimizer, loss='binary_crossentropy', metrics=['binary_accuracy'])"
      ],
      "execution_count": 0,
      "outputs": []
    },
    {
      "cell_type": "code",
      "metadata": {
        "id": "CbMbEHT2bs-2",
        "colab_type": "code",
        "colab": {}
      },
      "source": [
        "\n",
        "# prints a summary representation of your model\n",
        "d_g.summary()"
      ],
      "execution_count": 0,
      "outputs": []
    },
    {
      "cell_type": "code",
      "metadata": {
        "id": "Z-qsV4xIbvNb",
        "colab_type": "code",
        "colab": {}
      },
      "source": [
        "epochs = 100\n",
        "batch_size = 64\n",
        "smooth = 0.1\n",
        "\n",
        "real = np.ones(shape=(batch_size, 1))\n",
        "fake = np.zeros(shape=(batch_size, 1))\n",
        "\n",
        "d_loss = []\n",
        "d_g_loss = []\n",
        "\n",
        "for e in range(epochs + 1):\n",
        "    for i in range(len(X_train) // batch_size):\n",
        "        \n",
        "        # Train Discriminator weights\n",
        "        discriminator.trainable = True\n",
        "        \n",
        "        # Real samples\n",
        "        X_batch = X_train[i*batch_size:(i+1)*batch_size]\n",
        "        d_loss_real = discriminator.train_on_batch(x=X_batch, y=real * (1 - smooth))\n",
        "        \n",
        "        # Fake Samples\n",
        "        z = np.random.normal(loc=0, scale=1, size=(batch_size, latent_dim))\n",
        "        X_fake = generator.predict_on_batch(z)\n",
        "        d_loss_fake = discriminator.train_on_batch(x=X_fake, y=fake)\n",
        "         \n",
        "        # Discriminator loss\n",
        "        d_loss_batch = 0.5 * (d_loss_real[0] + d_loss_fake[0])\n",
        "        \n",
        "        # Train Generator weights\n",
        "        discriminator.trainable = False\n",
        "        d_g_loss_batch = d_g.train_on_batch(x=z, y=real)\n",
        "\n",
        "        print(\n",
        "            'epoch = %d/%d, batch = %d/%d, d_loss=%.3f, g_loss=%.3f' % (e + 1, epochs, i, len(X_train) // batch_size, d_loss_batch, d_g_loss_batch[0]),\n",
        "            100*' ',\n",
        "            end='\\r'\n",
        "        )\n",
        "    \n",
        "    d_loss.append(d_loss_batch)\n",
        "    d_g_loss.append(d_g_loss_batch[0])\n",
        "    print('epoch = %d/%d, d_loss=%.3f, g_loss=%.3f' % (e + 1, epochs, d_loss[-1], d_g_loss[-1]), 100*' ')\n",
        "\n",
        "    if e % 10 == 0:\n",
        "        samples = 10\n",
        "        x_fake = generator.predict(np.random.normal(loc=0, scale=1, size=(samples, latent_dim)))\n",
        "\n",
        "        for k in range(samples):\n",
        "            plt.subplot(2, 5, k+1)\n",
        "            plt.imshow(x_fake[k].reshape(28, 28), cmap='gray')\n",
        "            plt.xticks([])\n",
        "            plt.yticks([])\n",
        "\n",
        "        plt.tight_layout()\n",
        "        plt.show()"
      ],
      "execution_count": 0,
      "outputs": []
    },
    {
      "cell_type": "code",
      "metadata": {
        "id": "GgUML-TEbyQV",
        "colab_type": "code",
        "colab": {}
      },
      "source": [
        ""
      ],
      "execution_count": 0,
      "outputs": []
    }
  ]
}