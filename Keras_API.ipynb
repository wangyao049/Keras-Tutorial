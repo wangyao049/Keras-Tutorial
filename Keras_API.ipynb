{
  "nbformat": 4,
  "nbformat_minor": 0,
  "metadata": {
    "colab": {
      "name": "Keras_API.ipynb",
      "version": "0.3.2",
      "provenance": [],
      "private_outputs": true,
      "toc_visible": true,
      "include_colab_link": true
    },
    "kernelspec": {
      "name": "python3",
      "display_name": "Python 3"
    },
    "accelerator": "GPU"
  },
  "cells": [
    {
      "cell_type": "markdown",
      "metadata": {
        "id": "view-in-github",
        "colab_type": "text"
      },
      "source": [
        "<a href=\"https://colab.research.google.com/github/wangyao049/Keras-Tutorial/blob/master/Keras_API.ipynb\" target=\"_parent\"><img src=\"https://colab.research.google.com/assets/colab-badge.svg\" alt=\"Open In Colab\"/></a>"
      ]
    },
    {
      "cell_type": "markdown",
      "metadata": {
        "id": "3PmU3KsvRwYW",
        "colab_type": "text"
      },
      "source": [
        "## 1. 用函数API实现双输入问答系统"
      ]
    },
    {
      "cell_type": "code",
      "metadata": {
        "id": "1iFaEUs3Rdnx",
        "colab_type": "code",
        "colab": {}
      },
      "source": [
        "import keras\n",
        "from keras.models import Model\n",
        "from keras import layers\n",
        "from keras import Input"
      ],
      "execution_count": 0,
      "outputs": []
    },
    {
      "cell_type": "code",
      "metadata": {
        "id": "_i6KPFwRRqGI",
        "colab_type": "code",
        "colab": {}
      },
      "source": [
        "text_vocabulary_size = 10000\n",
        "question_vocabulary_size = 10000\n",
        "answer_vocabulary_size = 500\n",
        "\n",
        "text_input = Input(shape=(None,), dtype='int32', name='text')\n",
        "\n",
        "embedded_text = layers.Embedding(text_vocabulary_size, 64)(text_input)\n",
        "\n",
        "encoded_text = layers.LSTM(32)(embedded_text)\n",
        "\n",
        "question_input = Input(shape=(None,), dtype='int32', name='question')\n",
        "\n",
        "embedded_question = layers.Embedding(question_vocabulary_size, 32)(question_input)\n",
        "\n",
        "encoded_question = layers.LSTM(16)(embedded_question)\n",
        "\n",
        "concatenated = layers.concatenate([encoded_text, encoded_question], axis=-1)\n",
        "\n",
        "answer = layers.Dense(answer_vocabulary_size, activation='softmax')(concatenated)\n",
        "\n",
        "model = Model([text_input, question_input], answer)\n",
        "model.compile(optimizer='rmsprop', loss='categorical_crossentropy', metrics=['acc'])"
      ],
      "execution_count": 0,
      "outputs": []
    },
    {
      "cell_type": "code",
      "metadata": {
        "id": "FdWBhfb1U6lB",
        "colab_type": "code",
        "colab": {}
      },
      "source": [
        "import numpy as np\n",
        "\n",
        "num_samples = 1000\n",
        "max_length = 100\n",
        "\n",
        "text = np.random.randint(1, text_vocabulary_size, size=(num_samples, max_length))\n",
        "\n",
        "question = np.random.randint(1, question_vocabulary_size,size=(num_samples, max_length))\n",
        "\n",
        "answers = np.random.randint(answer_vocabulary_size, size=(num_samples))\n",
        "answers = keras.utils.to_categorical(answers, answer_vocabulary_size)\n",
        "model.fit([text, question], answers, epochs=10, batch_size=128)\n",
        "model.fit({'text': text, 'question': question}, answers,\n",
        "epochs=10, batch_size=128)"
      ],
      "execution_count": 0,
      "outputs": []
    },
    {
      "cell_type": "markdown",
      "metadata": {
        "id": "BlvpgdC_YUFW",
        "colab_type": "text"
      },
      "source": [
        "## 2. 层组成的有向无环图\n",
        "Inception模块\n",
        "\n"
      ]
    },
    {
      "cell_type": "code",
      "metadata": {
        "id": "T0KcWfrSWbFK",
        "colab_type": "code",
        "colab": {}
      },
      "source": [
        "from keras.layers import Input\n",
        "from keras import layers\n",
        "\n",
        "x = Input(shape=(128,128,1), dtype='float32')\n",
        "\n",
        "branch_a = layers.Conv2D(128, 1, activation='relu', strides=2, padding='same')(x)\n",
        "\n",
        "branch_b = layers.Conv2D(128, 1, activation='relu', padding='same')(x)\n",
        "branch_b = layers.Conv2D(128, 3, activation='relu', strides=2, padding='same')(branch_b)\n",
        "\n",
        "branch_c = layers.AveragePooling2D(3, strides=2, padding='same')(x)\n",
        "branch_c = layers.Conv2D(128, 3, activation='relu', padding='same')(branch_c)\n",
        "\n",
        "branch_d = layers.Conv2D(128, 1, activation='relu', padding='same')(x)\n",
        "branch_d = layers.Conv2D(128, 3, activation='relu', padding='same')(branch_d)\n",
        "branch_d = layers.Conv2D(128, 3, activation='relu', strides=2, padding='same')(branch_d)\n",
        "\n",
        "output = layers.concatenate([branch_a, branch_b, branch_c, branch_d], axis=-1)\n",
        "\n"
      ],
      "execution_count": 0,
      "outputs": []
    },
    {
      "cell_type": "markdown",
      "metadata": {
        "id": "OVNcqv6Nb5WC",
        "colab_type": "text"
      },
      "source": [
        "残差网络（residual connection）"
      ]
    },
    {
      "cell_type": "code",
      "metadata": {
        "id": "Z0lM8HDIZGqn",
        "colab_type": "code",
        "colab": {}
      },
      "source": [
        "# 恒等残差连接(identity residual connection)\n",
        "from keras import layers\n",
        "\n",
        "x = Input(shape=(128, 128, 1), dtype='float32')\n",
        "y = layers.Conv2D(128, 3, activation='relu', padding='same')(x)\n",
        "y = layers.Conv2D(128, 3, activation='relu', padding='same')(y)\n",
        "y = layers.Conv2D(128, 3, activation='relu', padding='same')(y)\n",
        "# 将原始x与输入特征相加\n",
        "y = layers.add([y, x])\n",
        "\n",
        "print(y.shape)\n",
        "\n",
        "# 如果特征图的尺寸不同，实现残差连接的方法如下，用的是线性残差连接(linear residual connection)\n",
        "\n",
        "x = Input(shape=(128, 128, 1), dtype='float32')\n",
        "y = layers.Conv2D(128, 3, activation='relu', padding='same')(x)\n",
        "y = layers.Conv2D(128, 3, activation='relu', padding='same')(y)\n",
        "y = layers.MaxPooling2D(2, strides=2)(y)\n",
        "\n",
        "residual = layers.Conv2D(128, 1, strides=2, padding='same')(x)\n",
        "\n",
        "y = layers.add([y, residual])\n",
        "\n",
        "print(x.shape)\n",
        "print(y.shape)"
      ],
      "execution_count": 0,
      "outputs": []
    },
    {
      "cell_type": "markdown",
      "metadata": {
        "id": "nBH-AV7SjoHJ",
        "colab_type": "text"
      },
      "source": [
        "## 3. 使用Keras回调函数来监控深度学习模型"
      ]
    },
    {
      "cell_type": "code",
      "metadata": {
        "id": "BO5UQgi9e3NH",
        "colab_type": "code",
        "colab": {}
      },
      "source": [
        "# ModelCheckpoint 与 EarlyStopping回调函数 \n",
        "# EarlyStopping: 如果监控目标在指定轮数内不再改善，则中断模型（例如，在刚开始过拟合的时候就中断训练，从而避免用更少的轮次重新训练模型。）\n",
        "# ModelCheckpoint： 可以在训练中不断的保存模型权重（也可以选择只保存目前的最佳模型，即一轮结束后具有最佳性能的模型）\n",
        "\n",
        "\n",
        "callbacks_list = [\n",
        "    keras.callbacks.EarlyStopping(monitor = 'acc', patience=1), \n",
        "    keras.callbacks.ModelCheckpoint(filepath='my_model.h5', monitor='val_loss', save_best_only=True,)]\n",
        "\n",
        "model.compile(optimizer='rmsprop', loss='binary_crossentropy', metrics=['acc'])\n",
        "\n",
        "model.fit(x, y, batch_size=32, callbacks=callbacks_list, validation_data=(x_val, y_val))"
      ],
      "execution_count": 0,
      "outputs": []
    },
    {
      "cell_type": "code",
      "metadata": {
        "id": "8XIAj9TajkOI",
        "colab_type": "code",
        "colab": {}
      },
      "source": [
        "# ReduceLROnPlateau回调函数： 如果验证损失不再改善，可以使用这个回调函数来降低学习率。\n",
        "\n",
        "callbacks_list = [\n",
        "    keras.callbacks.ReduceLROnPlateau(monitor='val_loss', factor=0.1, patience=10,)]"
      ],
      "execution_count": 0,
      "outputs": []
    },
    {
      "cell_type": "code",
      "metadata": {
        "colab_type": "code",
        "id": "o4P13ecYt5q3",
        "colab": {}
      },
      "source": [
        "import matplotlib.pyplot as plt\n",
        "% matplotlib inline\n",
        "from keras.utils import plot_model\n",
        "plot_model(model, to_file='model.png')"
      ],
      "execution_count": 0,
      "outputs": []
    },
    {
      "cell_type": "code",
      "metadata": {
        "id": "lLmCHcG-nAti",
        "colab_type": "code",
        "colab": {}
      },
      "source": [
        "plot_model(model, show_shapes=True, to_file='model.png')\n"
      ],
      "execution_count": 0,
      "outputs": []
    },
    {
      "cell_type": "code",
      "metadata": {
        "id": "bRtZx-wunAru",
        "colab_type": "code",
        "colab": {}
      },
      "source": [
        "from PIL import Image\n",
        "img = Image.open('model.png')\n",
        "plt.figure('model')\n",
        "plt.imshow(img)\n",
        "plt.show()"
      ],
      "execution_count": 0,
      "outputs": []
    },
    {
      "cell_type": "code",
      "metadata": {
        "id": "TrMGT7AGpz-R",
        "colab_type": "code",
        "colab": {}
      },
      "source": [
        ""
      ],
      "execution_count": 0,
      "outputs": []
    }
  ]
}