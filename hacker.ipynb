{
  "nbformat": 4,
  "nbformat_minor": 0,
  "metadata": {
    "colab": {
      "name": "hacker.ipynb",
      "version": "0.3.2",
      "provenance": [],
      "private_outputs": true,
      "include_colab_link": true
    },
    "kernelspec": {
      "name": "python3",
      "display_name": "Python 3"
    },
    "accelerator": "GPU"
  },
  "cells": [
    {
      "cell_type": "markdown",
      "metadata": {
        "id": "view-in-github",
        "colab_type": "text"
      },
      "source": [
        "<a href=\"https://colab.research.google.com/github/wangyao049/Keras-Tutorial/blob/master/hacker.ipynb\" target=\"_parent\"><img src=\"https://colab.research.google.com/assets/colab-badge.svg\" alt=\"Open In Colab\"/></a>"
      ]
    },
    {
      "cell_type": "code",
      "metadata": {
        "id": "Bwqa8lzMJaqH",
        "colab_type": "code",
        "colab": {}
      },
      "source": [
        "from google.colab import drive\n",
        "drive.mount('/gdrive')"
      ],
      "execution_count": 0,
      "outputs": []
    },
    {
      "cell_type": "code",
      "metadata": {
        "id": "XfkWtS_iKsI5",
        "colab_type": "code",
        "colab": {}
      },
      "source": [
        "import numpy as np\n",
        "from keras.preprocessing import image\n",
        "from keras.applications import inception_v3"
      ],
      "execution_count": 0,
      "outputs": []
    },
    {
      "cell_type": "code",
      "metadata": {
        "id": "DiPEgFriMTga",
        "colab_type": "code",
        "colab": {}
      },
      "source": [
        "model = inception_v3.InceptionV3()"
      ],
      "execution_count": 0,
      "outputs": []
    },
    {
      "cell_type": "code",
      "metadata": {
        "id": "Fsk-5QkMMVwJ",
        "colab_type": "code",
        "colab": {}
      },
      "source": [
        "img = image.load_img(\"/gdrive/My Drive/cat.jpg\",target_size=(299,299))"
      ],
      "execution_count": 0,
      "outputs": []
    },
    {
      "cell_type": "code",
      "metadata": {
        "id": "v7lGzps-MtMo",
        "colab_type": "code",
        "colab": {}
      },
      "source": [
        "input_image = image.img_to_array(img)"
      ],
      "execution_count": 0,
      "outputs": []
    },
    {
      "cell_type": "code",
      "metadata": {
        "id": "nA5gEtcYOKeC",
        "colab_type": "code",
        "colab": {}
      },
      "source": [
        "input_image /= 255.\n",
        "input_image -= 0.5\n",
        "input_image *= 2."
      ],
      "execution_count": 0,
      "outputs": []
    },
    {
      "cell_type": "code",
      "metadata": {
        "id": "3BHPlPD5OUAN",
        "colab_type": "code",
        "colab": {}
      },
      "source": [
        "input_image = np.expand_dims(input_image, axis=0)"
      ],
      "execution_count": 0,
      "outputs": []
    },
    {
      "cell_type": "code",
      "metadata": {
        "id": "0ZncJ8tiObFE",
        "colab_type": "code",
        "colab": {}
      },
      "source": [
        "predictions = model.predict(input_image)"
      ],
      "execution_count": 0,
      "outputs": []
    },
    {
      "cell_type": "code",
      "metadata": {
        "id": "C1pLbKMBOfz5",
        "colab_type": "code",
        "colab": {}
      },
      "source": [
        "predicted_classes = inception_v3.decode_predictions(predictions, top=1)\n",
        "imagenet_id, name, confidence = predicted_classes[0][0]\n",
        "print(\"This is a {} with {:.4}% confidence!\".format(name, confidence * 100))"
      ],
      "execution_count": 0,
      "outputs": []
    },
    {
      "cell_type": "code",
      "metadata": {
        "id": "5URPVjvvO5Bp",
        "colab_type": "code",
        "colab": {}
      },
      "source": [
        "import numpy as np\n",
        "from keras.preprocessing import image\n",
        "from keras.applications import inception_v3\n",
        "from keras import backend as K\n",
        "from PIL import Image\n",
        "\n",
        "# Load pre-trained image recognition model\n",
        "model = inception_v3.InceptionV3()\n",
        "\n",
        "# Grab a reference to the first and last layer of the neural net\n",
        "model_input_layer = model.layers[0].input\n",
        "model_output_layer = model.layers[-1].output\n",
        "\n",
        "# Choose an ImageNet object to fake\n",
        "# The list of classes is available here: https://gist.github.com/ageitgey/4e1342c10a71981d0b491e1b8227328b\n",
        "# Class #859 is \"toaster\"\n",
        "object_type_to_fake = 999\n",
        "\n",
        "# Load the image to hack\n",
        "img = image.load_img(\"/gdrive/My Drive/cat.jpg\", target_size=(299, 299))\n",
        "original_image = image.img_to_array(img)\n",
        "\n",
        "# Scale the image so all pixel intensities are between [-1, 1] as the model expects\n",
        "original_image /= 255.\n",
        "original_image -= 0.5\n",
        "original_image *= 2.\n",
        "\n",
        "# Add a 4th dimension for batch size (as Keras expects)\n",
        "original_image = np.expand_dims(original_image, axis=0)\n",
        "\n",
        "# Pre-calculate the maximum change we will allow to the image\n",
        "# We'll make sure our hacked image never goes past this so it doesn't look funny.\n",
        "# A larger number produces an image faster but risks more distortion.\n",
        "max_change_above = original_image + 0.01\n",
        "max_change_below = original_image - 0.01\n",
        "\n",
        "# Create a copy of the input image to hack on\n",
        "hacked_image = np.copy(original_image)\n",
        "\n",
        "# How much to update the hacked image in each iteration\n",
        "learning_rate = 0.1\n",
        "\n",
        "# Define the cost function.\n",
        "# Our 'cost' will be the likelihood out image is the target class according to the pre-trained model\n",
        "cost_function = model_output_layer[0, object_type_to_fake]\n",
        "\n",
        "# We'll ask Keras to calculate the gradient based on the input image and the currently predicted class\n",
        "# In this case, referring to \"model_input_layer\" will give us back image we are hacking.\n",
        "gradient_function = K.gradients(cost_function, model_input_layer)[0]\n",
        "\n",
        "# Create a Keras function that we can call to calculate the current cost and gradient\n",
        "grab_cost_and_gradients_from_model = K.function([model_input_layer, K.learning_phase()], [cost_function, gradient_function])\n",
        "\n",
        "cost = 0.0\n",
        "\n",
        "# In a loop, keep adjusting the hacked image slightly so that it tricks the model more and more\n",
        "# until it gets to at least 80% confidence\n",
        "while cost < 0.80:\n",
        "    # Check how close the image is to our target class and grab the gradients we\n",
        "    # can use to push it one more step in that direction.\n",
        "    # Note: It's really important to pass in '0' for the Keras learning mode here!\n",
        "    # Keras layers behave differently in prediction vs. train modes!\n",
        "    cost, gradients = grab_cost_and_gradients_from_model([hacked_image, 0])\n",
        "\n",
        "    # Move the hacked image one step further towards fooling the model\n",
        "    hacked_image += gradients * learning_rate\n",
        "\n",
        "    # Ensure that the image doesn't ever change too much to either look funny or to become an invalid image\n",
        "    hacked_image = np.clip(hacked_image, max_change_below, max_change_above)\n",
        "    hacked_image = np.clip(hacked_image, -1.0, 1.0)\n",
        "\n",
        "    print(\"Model's predicted likelihood that the image is a toaster: {:.8}%\".format(cost * 100))\n",
        "\n",
        "# De-scale the image's pixels from [-1, 1] back to the [0, 255] range\n",
        "img = hacked_image[0]\n",
        "img /= 2.\n",
        "img += 0.5\n",
        "img *= 255.\n",
        "\n",
        "# Save the hacked image!\n",
        "im = Image.fromarray(img.astype(np.uint8))\n",
        "im.save(\"/gdrive/My Drive/hacked-image.jpg\")"
      ],
      "execution_count": 0,
      "outputs": []
    },
    {
      "cell_type": "code",
      "metadata": {
        "id": "eqULfi6wYTFx",
        "colab_type": "code",
        "colab": {}
      },
      "source": [
        "import numpy as np\n",
        "from keras.preprocessing import image\n",
        "from keras.applications import inception_v3\n",
        "\n",
        "# Load pre-trained image recognition model\n",
        "model = inception_v3.InceptionV3()\n",
        "\n",
        "# Load the image file and convert it to a numpy array\n",
        "img = image.load_img(\"/gdrive/My Drive/hacked-image.jpg\", target_size=(299, 299))\n",
        "input_image = image.img_to_array(img)\n",
        "\n",
        "# Scale the image so all pixel intensities are between [-1, 1] as the model expects\n",
        "input_image /= 255.\n",
        "input_image -= 0.5\n",
        "input_image *= 2.\n",
        "\n",
        "# Add a 4th dimension for batch size (as Keras expects)\n",
        "input_image = np.expand_dims(input_image, axis=0)\n",
        "\n",
        "# Run the image through the neural network\n",
        "predictions = model.predict(input_image)\n",
        "\n",
        "# Convert the predictions into text and print them\n",
        "predicted_classes = inception_v3.decode_predictions(predictions, top=1)\n",
        "imagenet_id, name, confidence = predicted_classes[0][0]\n",
        "print(\"This is a {} with {:.4}% confidence!\".format(name, confidence * 100))"
      ],
      "execution_count": 0,
      "outputs": []
    }
  ]
}