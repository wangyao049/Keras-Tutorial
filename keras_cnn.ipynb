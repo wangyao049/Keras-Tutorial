{
 "cells": [
  {
   "cell_type": "code",
   "execution_count": 1,
   "metadata": {},
   "outputs": [
    {
     "name": "stderr",
     "output_type": "stream",
     "text": [
      "Using TensorFlow backend.\n"
     ]
    }
   ],
   "source": [
    "import numpy as np\n",
    "np.random.seed(1337)  # for reproducibility\n",
    "from keras.datasets import mnist\n",
    "from keras.utils import np_utils\n",
    "from keras.models import Sequential\n",
    "from keras.layers import Dense, Activation, Convolution2D, MaxPooling2D, Flatten\n",
    "from keras.optimizers import Adam"
   ]
  },
  {
   "cell_type": "code",
   "execution_count": 4,
   "metadata": {},
   "outputs": [],
   "source": [
    "# 加载数据\n",
    "(X_train, y_train),(X_test, y_test) = mnist.load_data()\n",
    "\n",
    "# 数据预处理（归一化，one-hot）\n",
    "X_train = X_train.reshape(-1, 1, 28, 28)/255\n",
    "X_test = X_test.reshape(-1, 1, 28, 28)/255\n",
    "y_train = np_utils.to_categorical(y_train, num_classes=10)\n",
    "y_test = np_utils.to_categorical(y_test, num_classes=10)"
   ]
  },
  {
   "cell_type": "code",
   "execution_count": 9,
   "metadata": {},
   "outputs": [],
   "source": [
    "# 建立CNN模型\n",
    "model = Sequential()\n",
    "# Conv layer1, output shape(32, 28, 28)\n",
    "model.add(Convolution2D(\n",
    "    batch_input_shape=(None,1,28,28),\n",
    "    filters=32,\n",
    "    kernel_size=5,\n",
    "    strides=1,\n",
    "    padding='same',\n",
    "    data_format='channels_first',\n",
    "    activation='relu'\n",
    "    \n",
    "))\n",
    "\n",
    "# Pooling layer1(max pooling), output shape(32, 14, 14)\n",
    "model.add(MaxPooling2D(pool_size=2, strides=2, padding='same', \n",
    "                       data_format='channels_first'))\n",
    "\n",
    "# Conv layer2, outputshape(64, 14, 14)\n",
    "model.add(Convolution2D(64, 5, strides=1, padding='same', \n",
    "                        data_format='channels_first', activation='relu'))\n",
    "\n",
    "# Pooling layer2(max pooling), output shape(64, 7, 7)\n",
    "model.add(MaxPooling2D(pool_size=2, strides=2, padding='same', \n",
    "                       data_format='channels_first'))\n",
    "\n",
    "# Fully connected layer1, input(64,64,7)=(3135), output(1024)\n",
    "model.add(Flatten())\n",
    "model.add(Dense(units=1024, activation='relu'))\n",
    "\n",
    "# Fully connected layer2, output(10) for 10 classes\n",
    "model.add(Dense(units=10, activation='softmax'))\n"
   ]
  },
  {
   "cell_type": "code",
   "execution_count": 10,
   "metadata": {},
   "outputs": [],
   "source": [
    "# 定义optimizer(Adam)\n",
    "adam = Adam(lr=0.001)\n",
    "\n",
    "# 编译模型\n",
    "model.compile(optimizer=adam,\n",
    "              loss='categorical_crossentropy',\n",
    "              metrics=['accuracy']\n",
    ")\n"
   ]
  },
  {
   "cell_type": "code",
   "execution_count": 11,
   "metadata": {},
   "outputs": [
    {
     "name": "stdout",
     "output_type": "stream",
     "text": [
      "Training.................\n",
      "Epoch 1/1\n",
      "60000/60000 [==============================] - 562s 9ms/step - loss: 0.1072 - acc: 0.9671\n",
      "Testing...................\n",
      "10000/10000 [==============================] - 41s 4ms/step\n",
      "loss is: 0.03950127332564443\n",
      "accuracy is: 0.9855\n"
     ]
    }
   ],
   "source": [
    "# 训练\n",
    "print('Training.................')\n",
    "model.fit(X_train, y_train, epochs=1, batch_size=64)\n",
    "\n",
    "# 测试\n",
    "print('Testing...................')\n",
    "loss, accuracy = model.evaluate(X_test, y_test)\n",
    "\n",
    "print('loss is:', loss)\n",
    "print('accuracy is:', accuracy)"
   ]
  }
 ],
 "metadata": {
  "kernelspec": {
   "display_name": "tensorflow",
   "language": "python",
   "name": "tensorflow"
  },
  "language_info": {
   "codemirror_mode": {
    "name": "ipython",
    "version": 3
   },
   "file_extension": ".py",
   "mimetype": "text/x-python",
   "name": "python",
   "nbconvert_exporter": "python",
   "pygments_lexer": "ipython3",
   "version": "3.6.7"
  }
 },
 "nbformat": 4,
 "nbformat_minor": 2
}
